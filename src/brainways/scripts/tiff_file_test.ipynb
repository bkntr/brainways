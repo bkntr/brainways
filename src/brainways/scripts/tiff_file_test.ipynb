{
 "cells": [
  {
   "cell_type": "code",
   "execution_count": 7,
   "metadata": {},
   "outputs": [
    {
     "name": "stdout",
     "output_type": "stream",
     "text": [
      "Channel Names: ['Channel:0:0']\n",
      "Shape: (1, 1, 2, 5769, 5769)\n",
      "Dimensions: <Dimensions [T: 1, C: 1, Z: 2, Y: 5769, X: 5769]>\n"
     ]
    }
   ],
   "source": [
    "from bioio import BioImage\n",
    "\n",
    "\n",
    "reader = BioImage(\"/mnt/c/Users/benka/Downloads/F.tif_section_3.tiff\")\n",
    "print(\"Channel Names:\", reader.channel_names)\n",
    "print(\"Shape:\", reader.shape)\n",
    "print(\"Dimensions:\", reader.dims)"
   ]
  },
  {
   "cell_type": "code",
   "execution_count": null,
   "metadata": {},
   "outputs": [
    {
     "data": {
      "text/plain": [
       "(0,)"
      ]
     },
     "execution_count": 12,
     "metadata": {},
     "output_type": "execute_result"
    }
   ],
   "source": [
    "reader.resolution_levels"
   ]
  },
  {
   "cell_type": "code",
   "execution_count": 5,
   "metadata": {},
   "outputs": [
    {
     "data": {
      "text/plain": [
       "(2, 5769, 5769)"
      ]
     },
     "execution_count": 5,
     "metadata": {},
     "output_type": "execute_result"
    }
   ],
   "source": [
    "import tifffile\n",
    "image = tifffile.imread(\"/mnt/c/Users/benka/Downloads/F.tif_section_3.tiff\")\n",
    "image.shape"
   ]
  }
 ],
 "metadata": {
  "kernelspec": {
   "display_name": ".venv",
   "language": "python",
   "name": "python3"
  },
  "language_info": {
   "codemirror_mode": {
    "name": "ipython",
    "version": 3
   },
   "file_extension": ".py",
   "mimetype": "text/x-python",
   "name": "python",
   "nbconvert_exporter": "python",
   "pygments_lexer": "ipython3",
   "version": "3.10.12"
  }
 },
 "nbformat": 4,
 "nbformat_minor": 2
}
